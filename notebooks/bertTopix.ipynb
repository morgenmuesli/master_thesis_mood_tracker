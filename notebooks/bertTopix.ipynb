{
 "cells": [
  {
   "cell_type": "code",
   "execution_count": 2,
   "metadata": {
    "collapsed": true
   },
   "outputs": [],
   "source": [
    "from bertopic import BERTopic\n"
   ]
  },
  {
   "cell_type": "code",
   "execution_count": 4,
   "outputs": [],
   "source": [
    "import nltk\n",
    "import numpy as np\n",
    "import pandas as pd\n",
    "from sqlalchemy import create_engine\n",
    "from nltk import stem"
   ],
   "metadata": {
    "collapsed": false
   }
  },
  {
   "cell_type": "code",
   "execution_count": 7,
   "outputs": [],
   "source": [
    "db_engine = \"mariadb+pymysql\"\n",
    "address = \"127.0.0.1\"\n",
    "port = 3306\n",
    "username = \"root\"\n",
    "password = \"itsonlylocal\"\n",
    "database = \"mood_tracker\"\n",
    "engine = create_engine(f'{db_engine}://{username}:{password}@{address}:{port}/{database}')\n",
    "\n",
    "\n"
   ],
   "metadata": {
    "collapsed": false
   }
  },
  {
   "cell_type": "code",
   "execution_count": 8,
   "outputs": [],
   "source": [
    "def select(table_name, columns, condition=True):\n",
    "    query = f'SELECT {columns} FROM {table_name} WHERE {condition}'\n",
    "    return pd.read_sql(query, engine)"
   ],
   "metadata": {
    "collapsed": false
   }
  },
  {
   "cell_type": "code",
   "execution_count": 9,
   "outputs": [],
   "source": [
    "df = select(\"appreviewssmall\", \"*\")"
   ],
   "metadata": {
    "collapsed": false
   }
  },
  {
   "cell_type": "code",
   "execution_count": 10,
   "outputs": [
    {
     "data": {
      "text/plain": "                            app_title  \\\n0       Daylio Journal - Mood Tracker   \n1       Daylio Journal - Mood Tracker   \n2       Daylio Journal - Mood Tracker   \n3       Daylio Journal - Mood Tracker   \n4       Daylio Journal - Mood Tracker   \n...                               ...   \n135908    WHOLE: Boost Your Happiness   \n135909    WHOLE: Boost Your Happiness   \n135910    WHOLE: Boost Your Happiness   \n135911    WHOLE: Boost Your Happiness   \n135912    WHOLE: Boost Your Happiness   \n\n                                           review_content  score  \\\n0       Best journal ever, especially if you need to t...      5   \n1       I LOVE THIS! I've been using this for a little...      5   \n2       I absolutely love this app! I have always trie...      5   \n3       App really wants your money. Literally won't s...      1   \n4                                    Menus few Agua quasi      5   \n...                                                   ...    ...   \n135908  Great and simple way of starting to care about...      5   \n135909                       Simple and very holesome. :D      5   \n135910  Great app, simple but good. Could do with a da...      5   \n135911              Always the shot of positivity I need!      5   \n135912                                   I love this App.      5   \n\n                        at  \n0      2022-11-15 05:51:03  \n1      2022-11-14 13:33:20  \n2      2022-11-14 01:09:11  \n3      2022-11-14 01:02:59  \n4      2022-11-13 03:07:34  \n...                    ...  \n135908 2021-10-30 10:56:44  \n135909 2021-10-28 17:05:49  \n135910 2021-09-30 23:34:28  \n135911 2021-09-24 15:29:38  \n135912 2021-07-20 22:46:35  \n\n[135913 rows x 4 columns]",
      "text/html": "<div>\n<style scoped>\n    .dataframe tbody tr th:only-of-type {\n        vertical-align: middle;\n    }\n\n    .dataframe tbody tr th {\n        vertical-align: top;\n    }\n\n    .dataframe thead th {\n        text-align: right;\n    }\n</style>\n<table border=\"1\" class=\"dataframe\">\n  <thead>\n    <tr style=\"text-align: right;\">\n      <th></th>\n      <th>app_title</th>\n      <th>review_content</th>\n      <th>score</th>\n      <th>at</th>\n    </tr>\n  </thead>\n  <tbody>\n    <tr>\n      <th>0</th>\n      <td>Daylio Journal - Mood Tracker</td>\n      <td>Best journal ever, especially if you need to t...</td>\n      <td>5</td>\n      <td>2022-11-15 05:51:03</td>\n    </tr>\n    <tr>\n      <th>1</th>\n      <td>Daylio Journal - Mood Tracker</td>\n      <td>I LOVE THIS! I've been using this for a little...</td>\n      <td>5</td>\n      <td>2022-11-14 13:33:20</td>\n    </tr>\n    <tr>\n      <th>2</th>\n      <td>Daylio Journal - Mood Tracker</td>\n      <td>I absolutely love this app! I have always trie...</td>\n      <td>5</td>\n      <td>2022-11-14 01:09:11</td>\n    </tr>\n    <tr>\n      <th>3</th>\n      <td>Daylio Journal - Mood Tracker</td>\n      <td>App really wants your money. Literally won't s...</td>\n      <td>1</td>\n      <td>2022-11-14 01:02:59</td>\n    </tr>\n    <tr>\n      <th>4</th>\n      <td>Daylio Journal - Mood Tracker</td>\n      <td>Menus few Agua quasi</td>\n      <td>5</td>\n      <td>2022-11-13 03:07:34</td>\n    </tr>\n    <tr>\n      <th>...</th>\n      <td>...</td>\n      <td>...</td>\n      <td>...</td>\n      <td>...</td>\n    </tr>\n    <tr>\n      <th>135908</th>\n      <td>WHOLE: Boost Your Happiness</td>\n      <td>Great and simple way of starting to care about...</td>\n      <td>5</td>\n      <td>2021-10-30 10:56:44</td>\n    </tr>\n    <tr>\n      <th>135909</th>\n      <td>WHOLE: Boost Your Happiness</td>\n      <td>Simple and very holesome. :D</td>\n      <td>5</td>\n      <td>2021-10-28 17:05:49</td>\n    </tr>\n    <tr>\n      <th>135910</th>\n      <td>WHOLE: Boost Your Happiness</td>\n      <td>Great app, simple but good. Could do with a da...</td>\n      <td>5</td>\n      <td>2021-09-30 23:34:28</td>\n    </tr>\n    <tr>\n      <th>135911</th>\n      <td>WHOLE: Boost Your Happiness</td>\n      <td>Always the shot of positivity I need!</td>\n      <td>5</td>\n      <td>2021-09-24 15:29:38</td>\n    </tr>\n    <tr>\n      <th>135912</th>\n      <td>WHOLE: Boost Your Happiness</td>\n      <td>I love this App.</td>\n      <td>5</td>\n      <td>2021-07-20 22:46:35</td>\n    </tr>\n  </tbody>\n</table>\n<p>135913 rows × 4 columns</p>\n</div>"
     },
     "execution_count": 10,
     "metadata": {},
     "output_type": "execute_result"
    }
   ],
   "source": [
    "df"
   ],
   "metadata": {
    "collapsed": false
   }
  },
  {
   "cell_type": "code",
   "execution_count": 13,
   "outputs": [],
   "source": [
    "docs = df[\"review_content\"]"
   ],
   "metadata": {
    "collapsed": false
   }
  },
  {
   "cell_type": "code",
   "execution_count": 11,
   "outputs": [],
   "source": [
    "topic_model = BERTopic(language=\"english\", calculate_probabilities=True, verbose=True)"
   ],
   "metadata": {
    "collapsed": false
   }
  },
  {
   "cell_type": "code",
   "execution_count": 18,
   "outputs": [],
   "source": [
    "docs = docs.values.tolist()"
   ],
   "metadata": {
    "collapsed": false
   }
  },
  {
   "cell_type": "code",
   "execution_count": null,
   "outputs": [
    {
     "data": {
      "text/plain": "Downloading:   0%|          | 0.00/1.18k [00:00<?, ?B/s]",
      "application/vnd.jupyter.widget-view+json": {
       "version_major": 2,
       "version_minor": 0,
       "model_id": "b6ced48e23834decbd1ca9277b6e65fb"
      }
     },
     "metadata": {},
     "output_type": "display_data"
    },
    {
     "data": {
      "text/plain": "Downloading:   0%|          | 0.00/190 [00:00<?, ?B/s]",
      "application/vnd.jupyter.widget-view+json": {
       "version_major": 2,
       "version_minor": 0,
       "model_id": "e00fe69b16584281ac65de84bfc93bb9"
      }
     },
     "metadata": {},
     "output_type": "display_data"
    },
    {
     "data": {
      "text/plain": "Downloading:   0%|          | 0.00/10.6k [00:00<?, ?B/s]",
      "application/vnd.jupyter.widget-view+json": {
       "version_major": 2,
       "version_minor": 0,
       "model_id": "8cf1f927cd9842c2b3268e2ccfdfafe7"
      }
     },
     "metadata": {},
     "output_type": "display_data"
    },
    {
     "data": {
      "text/plain": "Downloading:   0%|          | 0.00/612 [00:00<?, ?B/s]",
      "application/vnd.jupyter.widget-view+json": {
       "version_major": 2,
       "version_minor": 0,
       "model_id": "38c191a2395749f9929e57ac466adb78"
      }
     },
     "metadata": {},
     "output_type": "display_data"
    },
    {
     "data": {
      "text/plain": "Downloading:   0%|          | 0.00/116 [00:00<?, ?B/s]",
      "application/vnd.jupyter.widget-view+json": {
       "version_major": 2,
       "version_minor": 0,
       "model_id": "c7d4729dd9e24af9b4a60da615a5e05b"
      }
     },
     "metadata": {},
     "output_type": "display_data"
    },
    {
     "data": {
      "text/plain": "Downloading:   0%|          | 0.00/39.3k [00:00<?, ?B/s]",
      "application/vnd.jupyter.widget-view+json": {
       "version_major": 2,
       "version_minor": 0,
       "model_id": "1f45a84bece14027ae890f5a71c7feb4"
      }
     },
     "metadata": {},
     "output_type": "display_data"
    },
    {
     "data": {
      "text/plain": "Downloading:   0%|          | 0.00/90.9M [00:00<?, ?B/s]",
      "application/vnd.jupyter.widget-view+json": {
       "version_major": 2,
       "version_minor": 0,
       "model_id": "60e4cab7da45489fba9c9b2e5054d74a"
      }
     },
     "metadata": {},
     "output_type": "display_data"
    },
    {
     "data": {
      "text/plain": "Downloading:   0%|          | 0.00/53.0 [00:00<?, ?B/s]",
      "application/vnd.jupyter.widget-view+json": {
       "version_major": 2,
       "version_minor": 0,
       "model_id": "33365cf3d29e4538947022e47e77816a"
      }
     },
     "metadata": {},
     "output_type": "display_data"
    },
    {
     "data": {
      "text/plain": "Downloading:   0%|          | 0.00/112 [00:00<?, ?B/s]",
      "application/vnd.jupyter.widget-view+json": {
       "version_major": 2,
       "version_minor": 0,
       "model_id": "e2452d6f5006483ab518b1ece924bca6"
      }
     },
     "metadata": {},
     "output_type": "display_data"
    },
    {
     "data": {
      "text/plain": "Downloading:   0%|          | 0.00/466k [00:00<?, ?B/s]",
      "application/vnd.jupyter.widget-view+json": {
       "version_major": 2,
       "version_minor": 0,
       "model_id": "95d45c14220540439ffdb11cbdd52fd5"
      }
     },
     "metadata": {},
     "output_type": "display_data"
    },
    {
     "data": {
      "text/plain": "Downloading:   0%|          | 0.00/350 [00:00<?, ?B/s]",
      "application/vnd.jupyter.widget-view+json": {
       "version_major": 2,
       "version_minor": 0,
       "model_id": "1d356cee85ec41d380bddf1c513f5701"
      }
     },
     "metadata": {},
     "output_type": "display_data"
    },
    {
     "data": {
      "text/plain": "Downloading:   0%|          | 0.00/13.2k [00:00<?, ?B/s]",
      "application/vnd.jupyter.widget-view+json": {
       "version_major": 2,
       "version_minor": 0,
       "model_id": "d11e96c5b61a46478d35f023e7f0087d"
      }
     },
     "metadata": {},
     "output_type": "display_data"
    },
    {
     "data": {
      "text/plain": "Downloading:   0%|          | 0.00/232k [00:00<?, ?B/s]",
      "application/vnd.jupyter.widget-view+json": {
       "version_major": 2,
       "version_minor": 0,
       "model_id": "cd831f8a938f45dbbbdec5d12ac6bff2"
      }
     },
     "metadata": {},
     "output_type": "display_data"
    },
    {
     "data": {
      "text/plain": "Downloading:   0%|          | 0.00/349 [00:00<?, ?B/s]",
      "application/vnd.jupyter.widget-view+json": {
       "version_major": 2,
       "version_minor": 0,
       "model_id": "2342ab13bc4b4d3a80f8a458d55a1151"
      }
     },
     "metadata": {},
     "output_type": "display_data"
    },
    {
     "data": {
      "text/plain": "Batches:   0%|          | 0/4248 [00:00<?, ?it/s]",
      "application/vnd.jupyter.widget-view+json": {
       "version_major": 2,
       "version_minor": 0,
       "model_id": "e01ee267911241cabfe1e2f211d3f54c"
      }
     },
     "metadata": {},
     "output_type": "display_data"
    },
    {
     "name": "stderr",
     "output_type": "stream",
     "text": [
      "2022-11-23 14:23:56,575 - BERTopic - Transformed documents to Embeddings\n",
      "2022-11-23 14:27:21,545 - BERTopic - Reduced dimensionality\n"
     ]
    }
   ],
   "source": [
    "topics, probs = topic_model.fit_transform(docs)"
   ],
   "metadata": {
    "collapsed": false,
    "pycharm": {
     "is_executing": true
    }
   }
  },
  {
   "cell_type": "code",
   "execution_count": null,
   "outputs": [],
   "source": [
    "freq = topic_model.get_topic_info(); freq.head(5)"
   ],
   "metadata": {
    "collapsed": false,
    "pycharm": {
     "is_executing": true
    }
   }
  },
  {
   "cell_type": "code",
   "execution_count": null,
   "outputs": [],
   "source": [],
   "metadata": {
    "collapsed": false
   }
  }
 ],
 "metadata": {
  "kernelspec": {
   "display_name": "Python 3",
   "language": "python",
   "name": "python3"
  },
  "language_info": {
   "codemirror_mode": {
    "name": "ipython",
    "version": 2
   },
   "file_extension": ".py",
   "mimetype": "text/x-python",
   "name": "python",
   "nbconvert_exporter": "python",
   "pygments_lexer": "ipython2",
   "version": "2.7.6"
  }
 },
 "nbformat": 4,
 "nbformat_minor": 0
}
