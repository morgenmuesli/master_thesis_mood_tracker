{
 "cells": [
  {
   "cell_type": "code",
   "execution_count": 2,
   "metadata": {
    "collapsed": true
   },
   "outputs": [],
   "source": [
    "import nltk\n",
    "import numpy as np\n",
    "import pandas as pd\n",
    "from sqlalchemy import create_engine\n",
    "from nltk import stem"
   ]
  },
  {
   "cell_type": "code",
   "execution_count": 3,
   "outputs": [],
   "source": [
    "\n",
    "db_engine = \"mariadb+pymysql\"\n",
    "address = \"127.0.0.1\"\n",
    "port = 3306\n",
    "username = \"root\"\n",
    "password = \"itsonlylocal\"\n",
    "database = \"mood_tracker\"\n",
    "engine = create_engine(f'{db_engine}://{username}:{password}@{address}:{port}/{database}')\n",
    "\n"
   ],
   "metadata": {
    "collapsed": false
   }
  },
  {
   "cell_type": "code",
   "execution_count": 4,
   "outputs": [],
   "source": [
    "def select(table_name, columns, condition=True):\n",
    "    query = f'SELECT {columns} FROM {table_name} WHERE {condition}'\n",
    "    return pd.read_sql(query, engine)"
   ],
   "metadata": {
    "collapsed": false
   }
  },
  {
   "cell_type": "code",
   "execution_count": 5,
   "outputs": [],
   "source": [
    "df = select(\"appreviewssmall\", \"*\")"
   ],
   "metadata": {
    "collapsed": false
   }
  },
  {
   "cell_type": "code",
   "execution_count": 6,
   "outputs": [
    {
     "name": "stdout",
     "output_type": "stream",
     "text": [
      "<class 'pandas.core.frame.DataFrame'>\n",
      "RangeIndex: 135913 entries, 0 to 135912\n",
      "Data columns (total 4 columns):\n",
      " #   Column          Non-Null Count   Dtype         \n",
      "---  ------          --------------   -----         \n",
      " 0   app_title       135913 non-null  object        \n",
      " 1   review_content  135902 non-null  object        \n",
      " 2   score           135913 non-null  int64         \n",
      " 3   at              135913 non-null  datetime64[ns]\n",
      "dtypes: datetime64[ns](1), int64(1), object(2)\n",
      "memory usage: 4.1+ MB\n"
     ]
    }
   ],
   "source": [
    "from pprint import pprint\n",
    "\n",
    "df.head(10)\n",
    "df.info()"
   ],
   "metadata": {
    "collapsed": false
   }
  },
  {
   "cell_type": "code",
   "execution_count": 7,
   "outputs": [],
   "source": [
    "df[\"review_content\"] = df[\"review_content\"].astype(str)"
   ],
   "metadata": {
    "collapsed": false
   }
  },
  {
   "cell_type": "code",
   "execution_count": 8,
   "outputs": [],
   "source": [
    "import regex as re\n",
    "\n",
    "def tokenize(text):\n",
    "    return re.findall(r\"[\\w+]*\\p{L}[\\w+]*\", text)\n",
    "\n",
    "stopwords = set(nltk.corpus.stopwords.words(\"english\"))\n"
   ],
   "metadata": {
    "collapsed": false
   }
  },
  {
   "cell_type": "code",
   "execution_count": 9,
   "outputs": [],
   "source": [
    "def remove_stop(tokens):\n",
    "    return [t for t in tokens if t.lower() not in stopwords]"
   ],
   "metadata": {
    "collapsed": false
   }
  },
  {
   "cell_type": "code",
   "execution_count": 10,
   "outputs": [],
   "source": [
    "\n",
    "\n",
    "stemmer = stem.SnowballStemmer(\"english\")\n",
    "stem_fn = stemmer.stem\n",
    "\n",
    "def stemming(tokens, stemming_fn=stem_fn):\n",
    "    return [ stemming_fn(t) for t in tokens]\n",
    "\n",
    "pipeline = [str.lower, tokenize,stemming, remove_stop]\n",
    "\n",
    "def prepare(text, pipeline):\n",
    "    tokens = text\n",
    "    for transform in pipeline:\n",
    "        tokens = transform(tokens)\n",
    "    return tokens\n"
   ],
   "metadata": {
    "collapsed": false
   }
  },
  {
   "cell_type": "code",
   "execution_count": 11,
   "outputs": [
    {
     "data": {
      "text/plain": "<method 'lower' of 'str' objects>"
     },
     "execution_count": 11,
     "metadata": {},
     "output_type": "execute_result"
    }
   ],
   "source": [
    "str.lower"
   ],
   "metadata": {
    "collapsed": false
   }
  },
  {
   "cell_type": "markdown",
   "source": [],
   "metadata": {
    "collapsed": false
   }
  },
  {
   "cell_type": "code",
   "execution_count": 12,
   "outputs": [
    {
     "data": {
      "text/plain": "['lol', 'work']"
     },
     "execution_count": 12,
     "metadata": {},
     "output_type": "execute_result"
    }
   ],
   "source": [
    "prepare(\"LoL this works!!! :D\", pipeline)"
   ],
   "metadata": {
    "collapsed": false
   }
  },
  {
   "cell_type": "code",
   "execution_count": 13,
   "outputs": [],
   "source": [
    "df[\"tokens\"] = df[\"review_content\"].apply(prepare, pipeline=pipeline)"
   ],
   "metadata": {
    "collapsed": false
   }
  },
  {
   "cell_type": "code",
   "execution_count": 14,
   "outputs": [
    {
     "data": {
      "text/plain": "                       app_title  \\\n0  Daylio Journal - Mood Tracker   \n1  Daylio Journal - Mood Tracker   \n2  Daylio Journal - Mood Tracker   \n3  Daylio Journal - Mood Tracker   \n4  Daylio Journal - Mood Tracker   \n5  Daylio Journal - Mood Tracker   \n6  Daylio Journal - Mood Tracker   \n7  Daylio Journal - Mood Tracker   \n8  Daylio Journal - Mood Tracker   \n9  Daylio Journal - Mood Tracker   \n\n                                      review_content  score  \\\n0  Best journal ever, especially if you need to t...      5   \n1  I LOVE THIS! I've been using this for a little...      5   \n2  I absolutely love this app! I have always trie...      5   \n3  App really wants your money. Literally won't s...      1   \n4                               Menus few Agua quasi      5   \n5  This app is honestly so amazing!! I have ADHD ...      5   \n6  Nothing nice app super cool I do think it shou...      3   \n7  I have gotten into the habit of using this mul...      5   \n8  Love the app after using it for years, but aft...      4   \n9  Edit: I've logged over 1000 entries now, still...      4   \n\n                   at                                             tokens  \n0 2022-11-15 05:51:03  [best, journal, ever, especi, need, track, moo...  \n1 2022-11-14 13:33:20  [love, use, littl, year, veri, proud, tell, ki...  \n2 2022-11-14 01:09:11  [absolut, love, app, alway, tri, keep, journal...  \n3 2022-11-14 01:02:59  [app, realli, want, money, liter, stop, e, beg...  \n4 2022-11-13 03:07:34                               [menus, agua, quasi]  \n5 2022-11-12 18:38:29  [app, honest, amaz, adhd, issu, want, track, m...  \n6 2022-11-11 22:56:50  [noth, nice, app, super, cool, think, recommen...  \n7 2022-11-11 21:08:10  [gotten, habit, use, multipl, time, day, see, ...  \n8 2022-11-11 09:55:21  [love, app, use, year, latest, updat, photo, u...  \n9 2022-11-11 03:49:34  [edit, log, entri, still, love, app, last, upd...  ",
      "text/html": "<div>\n<style scoped>\n    .dataframe tbody tr th:only-of-type {\n        vertical-align: middle;\n    }\n\n    .dataframe tbody tr th {\n        vertical-align: top;\n    }\n\n    .dataframe thead th {\n        text-align: right;\n    }\n</style>\n<table border=\"1\" class=\"dataframe\">\n  <thead>\n    <tr style=\"text-align: right;\">\n      <th></th>\n      <th>app_title</th>\n      <th>review_content</th>\n      <th>score</th>\n      <th>at</th>\n      <th>tokens</th>\n    </tr>\n  </thead>\n  <tbody>\n    <tr>\n      <th>0</th>\n      <td>Daylio Journal - Mood Tracker</td>\n      <td>Best journal ever, especially if you need to t...</td>\n      <td>5</td>\n      <td>2022-11-15 05:51:03</td>\n      <td>[best, journal, ever, especi, need, track, moo...</td>\n    </tr>\n    <tr>\n      <th>1</th>\n      <td>Daylio Journal - Mood Tracker</td>\n      <td>I LOVE THIS! I've been using this for a little...</td>\n      <td>5</td>\n      <td>2022-11-14 13:33:20</td>\n      <td>[love, use, littl, year, veri, proud, tell, ki...</td>\n    </tr>\n    <tr>\n      <th>2</th>\n      <td>Daylio Journal - Mood Tracker</td>\n      <td>I absolutely love this app! I have always trie...</td>\n      <td>5</td>\n      <td>2022-11-14 01:09:11</td>\n      <td>[absolut, love, app, alway, tri, keep, journal...</td>\n    </tr>\n    <tr>\n      <th>3</th>\n      <td>Daylio Journal - Mood Tracker</td>\n      <td>App really wants your money. Literally won't s...</td>\n      <td>1</td>\n      <td>2022-11-14 01:02:59</td>\n      <td>[app, realli, want, money, liter, stop, e, beg...</td>\n    </tr>\n    <tr>\n      <th>4</th>\n      <td>Daylio Journal - Mood Tracker</td>\n      <td>Menus few Agua quasi</td>\n      <td>5</td>\n      <td>2022-11-13 03:07:34</td>\n      <td>[menus, agua, quasi]</td>\n    </tr>\n    <tr>\n      <th>5</th>\n      <td>Daylio Journal - Mood Tracker</td>\n      <td>This app is honestly so amazing!! I have ADHD ...</td>\n      <td>5</td>\n      <td>2022-11-12 18:38:29</td>\n      <td>[app, honest, amaz, adhd, issu, want, track, m...</td>\n    </tr>\n    <tr>\n      <th>6</th>\n      <td>Daylio Journal - Mood Tracker</td>\n      <td>Nothing nice app super cool I do think it shou...</td>\n      <td>3</td>\n      <td>2022-11-11 22:56:50</td>\n      <td>[noth, nice, app, super, cool, think, recommen...</td>\n    </tr>\n    <tr>\n      <th>7</th>\n      <td>Daylio Journal - Mood Tracker</td>\n      <td>I have gotten into the habit of using this mul...</td>\n      <td>5</td>\n      <td>2022-11-11 21:08:10</td>\n      <td>[gotten, habit, use, multipl, time, day, see, ...</td>\n    </tr>\n    <tr>\n      <th>8</th>\n      <td>Daylio Journal - Mood Tracker</td>\n      <td>Love the app after using it for years, but aft...</td>\n      <td>4</td>\n      <td>2022-11-11 09:55:21</td>\n      <td>[love, app, use, year, latest, updat, photo, u...</td>\n    </tr>\n    <tr>\n      <th>9</th>\n      <td>Daylio Journal - Mood Tracker</td>\n      <td>Edit: I've logged over 1000 entries now, still...</td>\n      <td>4</td>\n      <td>2022-11-11 03:49:34</td>\n      <td>[edit, log, entri, still, love, app, last, upd...</td>\n    </tr>\n  </tbody>\n</table>\n</div>"
     },
     "execution_count": 14,
     "metadata": {},
     "output_type": "execute_result"
    }
   ],
   "source": [
    "df.head(10)"
   ],
   "metadata": {
    "collapsed": false
   }
  },
  {
   "cell_type": "code",
   "execution_count": 15,
   "outputs": [],
   "source": [
    "from collections import Counter\n",
    "\n",
    "\n",
    "def compute_idf(df, column=\"tokens\", preprocess=None, min_freq=2):\n",
    "    def update(doc):\n",
    "        tokens = doc if preprocess is None else preprocess(doc)\n",
    "        counter.update(set(tokens))\n",
    "\n",
    "    counter = Counter()\n",
    "    df[column].map(update)\n",
    "    idf_tf = pd.DataFrame.from_dict(counter, orient=\"index\", columns=[\"df\"])\n",
    "    idf_tf = idf_tf.query('df >= @min_freq')\n",
    "    idf_tf[\"idf\"] = np.log(len(df)/idf_tf[\"df\"]) + 0.1\n",
    "    idf_tf.index.name = \"token\"\n",
    "    return idf_tf\n",
    "\n",
    "\n"
   ],
   "metadata": {
    "collapsed": false
   }
  },
  {
   "cell_type": "code",
   "execution_count": 16,
   "outputs": [],
   "source": [
    "def count_words(df, column=\"tokens\", preprocess=None, min_df=2):\n",
    "    def update(doc):\n",
    "        tokens = doc if preprocess is None else preprocess(doc)\n",
    "        counter.update(tokens)\n",
    "\n",
    "    counter = Counter()\n",
    "    df[column].map(update)\n",
    "\n",
    "    freq_df = pd.DataFrame.from_dict(counter, orient=\"index\", columns=[\"freq\"])\n",
    "    freq_df = freq_df.query('freq >= @min_df')\n",
    "    freq_df.index.name = \"token\"\n",
    "\n",
    "    return freq_df.sort_values(\"freq\", ascending=False)\n",
    "\n"
   ],
   "metadata": {
    "collapsed": false
   }
  },
  {
   "cell_type": "code",
   "execution_count": 17,
   "outputs": [],
   "source": [
    "freq_df = count_words(df)"
   ],
   "metadata": {
    "collapsed": false
   }
  },
  {
   "cell_type": "code",
   "execution_count": 18,
   "outputs": [
    {
     "data": {
      "text/plain": "         freq\ntoken        \napp     77890\nhelp    51719\nuse     30346\nrealli  28526\nlove    26306\nlike    23135\nday     22056\nmood    21886\ngreat   21873\ngood    21507",
      "text/html": "<div>\n<style scoped>\n    .dataframe tbody tr th:only-of-type {\n        vertical-align: middle;\n    }\n\n    .dataframe tbody tr th {\n        vertical-align: top;\n    }\n\n    .dataframe thead th {\n        text-align: right;\n    }\n</style>\n<table border=\"1\" class=\"dataframe\">\n  <thead>\n    <tr style=\"text-align: right;\">\n      <th></th>\n      <th>freq</th>\n    </tr>\n    <tr>\n      <th>token</th>\n      <th></th>\n    </tr>\n  </thead>\n  <tbody>\n    <tr>\n      <th>app</th>\n      <td>77890</td>\n    </tr>\n    <tr>\n      <th>help</th>\n      <td>51719</td>\n    </tr>\n    <tr>\n      <th>use</th>\n      <td>30346</td>\n    </tr>\n    <tr>\n      <th>realli</th>\n      <td>28526</td>\n    </tr>\n    <tr>\n      <th>love</th>\n      <td>26306</td>\n    </tr>\n    <tr>\n      <th>like</th>\n      <td>23135</td>\n    </tr>\n    <tr>\n      <th>day</th>\n      <td>22056</td>\n    </tr>\n    <tr>\n      <th>mood</th>\n      <td>21886</td>\n    </tr>\n    <tr>\n      <th>great</th>\n      <td>21873</td>\n    </tr>\n    <tr>\n      <th>good</th>\n      <td>21507</td>\n    </tr>\n  </tbody>\n</table>\n</div>"
     },
     "execution_count": 18,
     "metadata": {},
     "output_type": "execute_result"
    }
   ],
   "source": [
    "freq_df.head(10)"
   ],
   "metadata": {
    "collapsed": false
   }
  },
  {
   "cell_type": "code",
   "execution_count": 19,
   "outputs": [],
   "source": [
    "from wordcloud import WordCloud\n",
    "from matplotlib import pyplot as plt\n",
    "\n",
    "text = df.query(\"app_title=='Daylio Journal - Mood Tracker'\")[\"review_content\"].values[0]"
   ],
   "metadata": {
    "collapsed": false
   }
  },
  {
   "cell_type": "code",
   "execution_count": 20,
   "outputs": [
    {
     "data": {
      "text/plain": "\"Best journal ever, especially if you need to track moods or goals. I've used it for years.\""
     },
     "execution_count": 20,
     "metadata": {},
     "output_type": "execute_result"
    }
   ],
   "source": [
    "text"
   ],
   "metadata": {
    "collapsed": false
   }
  },
  {
   "cell_type": "code",
   "execution_count": 21,
   "outputs": [],
   "source": [
    "wc = WordCloud(max_words=100, stopwords=stopwords)"
   ],
   "metadata": {
    "collapsed": false
   }
  },
  {
   "cell_type": "code",
   "execution_count": 22,
   "outputs": [],
   "source": [
    "def wordcloud(word_freq, title=None, max_words=200, stopwords=None):\n",
    "    wc = WordCloud(width=800, height=400, background_color=\"white\", colormap=\"Paired\", max_font_size=150, max_words=max_words)\n",
    "    if type(word_freq) == pd.Series:\n",
    "        counter = Counter(word_freq.fillna(0).to_dict())\n",
    "    else:\n",
    "        counter = word_freq\n",
    "    if stopwords is not None:\n",
    "        counter = {token:freq for (token, freq) in counter.items()\n",
    "                   if token not in stopwords}\n",
    "    wc.generate_from_frequencies(counter)\n",
    "\n",
    "    plt.title(title)\n",
    "    plt.imshow(wc, interpolation=\"bilinear\")\n",
    "    plt.axis(\"off\")"
   ],
   "metadata": {
    "collapsed": false
   }
  },
  {
   "cell_type": "code",
   "execution_count": 23,
   "outputs": [],
   "source": [
    "freq_daylio = count_words(df[df[\"app_title\"] == \"Daylio Journal - Mood Tracker\"])\n",
    "freq_daylio_worst = count_words(df[df[\"score\"] == 1])"
   ],
   "metadata": {
    "collapsed": false
   }
  },
  {
   "cell_type": "code",
   "execution_count": 24,
   "outputs": [
    {
     "name": "stderr",
     "output_type": "stream",
     "text": [
      "C:\\Users\\Chris\\AppData\\Local\\Temp\\ipykernel_24676\\3619858411.py:13: SettingWithCopyWarning: \n",
      "A value is trying to be set on a copy of a slice from a DataFrame.\n",
      "Try using .loc[row_indexer,col_indexer] = value instead\n",
      "\n",
      "See the caveats in the documentation: https://pandas.pydata.org/pandas-docs/stable/user_guide/indexing.html#returning-a-view-versus-a-copy\n",
      "  idf_tf[\"idf\"] = np.log(len(df)/idf_tf[\"df\"]) + 0.1\n"
     ]
    }
   ],
   "source": [
    "idf_df = compute_idf(df)"
   ],
   "metadata": {
    "collapsed": false
   }
  },
  {
   "cell_type": "code",
   "execution_count": 25,
   "outputs": [],
   "source": [
    "freq_df[\"tfidf\"] = freq_df[\"freq\"] * idf_df[\"idf\"]"
   ],
   "metadata": {
    "collapsed": false
   }
  },
  {
   "cell_type": "code",
   "execution_count": 26,
   "outputs": [
    {
     "ename": "NameError",
     "evalue": "name 'df_worst' is not defined",
     "output_type": "error",
     "traceback": [
      "\u001B[1;31m---------------------------------------------------------------------------\u001B[0m",
      "\u001B[1;31mNameError\u001B[0m                                 Traceback (most recent call last)",
      "Input \u001B[1;32mIn [26]\u001B[0m, in \u001B[0;36m<cell line: 1>\u001B[1;34m()\u001B[0m\n\u001B[1;32m----> 1\u001B[0m df_worst[\u001B[38;5;124m\"\u001B[39m\u001B[38;5;124mtfidf\u001B[39m\u001B[38;5;124m\"\u001B[39m] \u001B[38;5;241m=\u001B[39m \u001B[43mdf_worst\u001B[49m[\u001B[38;5;124m\"\u001B[39m\u001B[38;5;124mfreq\u001B[39m\u001B[38;5;124m\"\u001B[39m] \u001B[38;5;241m*\u001B[39m idf_df[\u001B[38;5;124m\"\u001B[39m\u001B[38;5;124midf\u001B[39m\u001B[38;5;124m\"\u001B[39m]\n",
      "\u001B[1;31mNameError\u001B[0m: name 'df_worst' is not defined"
     ]
    }
   ],
   "source": [
    "df_worst[\"tfidf\"] = df_worst[\"freq\"] * idf_df[\"idf\"]"
   ],
   "metadata": {
    "collapsed": false
   }
  },
  {
   "cell_type": "code",
   "execution_count": null,
   "outputs": [],
   "source": [
    "wordcloud(df_worst[\"tfidf\"], title=\"worst tf-idf\", stopwords=[\"app\", \"use\", \"great\"])"
   ],
   "metadata": {
    "collapsed": false
   }
  },
  {
   "cell_type": "code",
   "execution_count": null,
   "outputs": [],
   "source": [
    "wordcloud(freq_daylio[\"freq\"], title=\"daylio tf\",  stopwords=[\"app\", \"use\", \"great\"])"
   ],
   "metadata": {
    "collapsed": false
   }
  },
  {
   "cell_type": "code",
   "execution_count": null,
   "outputs": [],
   "source": [
    "def n_gram(tokens, n=2, sep=\" \", n_gram_stopwords=set()):\n",
    "    return [sep.join(ngram) for ngram in zip(*[tokens[i:] for i in range(n)])\n",
    "            if len([t for t in ngram if t in n_gram_stopwords]) == 0 ]\n",
    "\n",
    "\n",
    "\n"
   ],
   "metadata": {
    "collapsed": false
   }
  },
  {
   "cell_type": "code",
   "execution_count": null,
   "outputs": [],
   "source": [
    "tokens = tokenize(text)\n",
    "n_gram(tokens, n_gram_stopwords=stopwords)"
   ],
   "metadata": {
    "collapsed": false
   }
  },
  {
   "cell_type": "code",
   "execution_count": null,
   "outputs": [],
   "source": [
    "df[\"bigrams\"] = df[\"review_content\"].apply(prepare, pipeline=[str.lower, tokenize]).apply(n_gram, n=2, stopwords=stopwords)"
   ],
   "metadata": {
    "collapsed": false
   }
  },
  {
   "cell_type": "code",
   "execution_count": null,
   "outputs": [],
   "source": [
    "idf_df = pd.concat([idf_df, compute_idf(df, \"bigrams\", min_freq=10)])\n",
    "freq_df = count_words(df[df[\"app_title\"]==\"Daylio Journal - Mood Tracker\"], \"bigrams\")"
   ],
   "metadata": {
    "collapsed": false
   }
  },
  {
   "cell_type": "markdown",
   "source": [
    "## change tokenizer"
   ],
   "metadata": {
    "collapsed": false
   }
  },
  {
   "cell_type": "code",
   "execution_count": null,
   "outputs": [],
   "source": [
    "import nltk\n",
    "\n",
    "tokenize_function = nltk.tokenize.word_tokenize"
   ],
   "metadata": {
    "collapsed": false
   }
  },
  {
   "cell_type": "code",
   "execution_count": 27,
   "outputs": [],
   "source": [
    "pipeline = [str.lower, tokenize_function,stemming, remove_stop]"
   ],
   "metadata": {
    "collapsed": false
   }
  },
  {
   "cell_type": "code",
   "execution_count": 30,
   "outputs": [],
   "source": [
    "df[\"tokens\"] = df[\"review_content\"].apply(prepare, pipeline=pipeline)\n"
   ],
   "metadata": {
    "collapsed": false
   }
  },
  {
   "cell_type": "code",
   "execution_count": 29,
   "outputs": [
    {
     "name": "stderr",
     "output_type": "stream",
     "text": [
      "[nltk_data] Downloading package punkt to\n",
      "[nltk_data]     C:\\Users\\Chris\\AppData\\Roaming\\nltk_data...\n",
      "[nltk_data]   Unzipping tokenizers\\punkt.zip.\n"
     ]
    },
    {
     "data": {
      "text/plain": "True"
     },
     "execution_count": 29,
     "metadata": {},
     "output_type": "execute_result"
    }
   ],
   "source": [
    "nltk.download('punkt')"
   ],
   "metadata": {
    "collapsed": false
   }
  },
  {
   "cell_type": "code",
   "execution_count": 31,
   "outputs": [
    {
     "data": {
      "text/plain": "0    [best, journal, ever, ,, especi, need, track, ...\n1    [love, !, use, littl, year, ., (, 'm, veri, pr...\n2    [absolut, love, app, !, alway, tri, keep, jour...\n3    [app, realli, want, money, ., liter, wo, n't, ...\n4                                 [menus, agua, quasi]\n5    [app, honest, amaz, !, !, adhd, issu, want, tr...\n6    [noth, nice, app, super, cool, think, recommen...\n7    [gotten, habit, use, multipl, time, day, see, ...\n8    [love, app, use, year, ,, latest, updat, photo...\n9    [edit, :, log, 1000, entri, ,, still, love, ap...\nName: tokens, dtype: object"
     },
     "execution_count": 31,
     "metadata": {},
     "output_type": "execute_result"
    }
   ],
   "source": [
    "df[\"tokens\"].head(10)"
   ],
   "metadata": {
    "collapsed": false
   }
  },
  {
   "cell_type": "markdown",
   "source": [],
   "metadata": {
    "collapsed": false
   }
  },
  {
   "cell_type": "code",
   "execution_count": 39,
   "outputs": [
    {
     "data": {
      "text/plain": "<AxesSubplot:xlabel='app_title'>"
     },
     "execution_count": 39,
     "metadata": {},
     "output_type": "execute_result"
    },
    {
     "data": {
      "text/plain": "<Figure size 640x480 with 1 Axes>",
      "image/png": "[encoded data removed]"
     },
     "metadata": {},
     "output_type": "display_data"
    }
   ],
   "source": [
    "df.groupby(\"app_title\").count().sort_values(\"review_content\", ascending=False).plot(kind=\"bar\")"
   ],
   "metadata": {
    "collapsed": false
   }
  },
  {
   "cell_type": "code",
   "execution_count": null,
   "outputs": [],
   "source": [],
   "metadata": {
    "collapsed": false
   }
  }
 ],
 "metadata": {
  "kernelspec": {
   "display_name": "Python 3",
   "language": "python",
   "name": "python3"
  },
  "language_info": {
   "codemirror_mode": {
    "name": "ipython",
    "version": 2
   },
   "file_extension": ".py",
   "mimetype": "text/x-python",
   "name": "python",
   "nbconvert_exporter": "python",
   "pygments_lexer": "ipython2",
   "version": "2.7.6"
  }
 },
 "nbformat": 4,
 "nbformat_minor": 0
}
